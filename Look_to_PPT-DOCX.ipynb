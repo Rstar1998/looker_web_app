{
  "cells": [
    {
      "cell_type": "markdown",
      "metadata": {
        "id": "lug3lzjuauLu"
      },
      "source": [
        "https://github.com/looker-open-source/sdk-codegen/tree/main/python/looker_sdk\n",
        "\n",
        "\n",
        "---\n",
        "\n"
      ]
    },
    {
      "cell_type": "code",
      "execution_count": null,
      "metadata": {
        "colab": {
          "base_uri": "https://localhost:8080/"
        },
        "id": "Bi_e6oHC-N2G",
        "outputId": "993b156a-24cb-4c6a-8721-9a5b3e0d36e2"
      },
      "outputs": [],
      "source": [
        "from google.colab import drive\n",
        "drive.mount('/content/drive')"
      ]
    },
    {
      "cell_type": "code",
      "execution_count": null,
      "metadata": {
        "colab": {
          "base_uri": "https://localhost:8080/"
        },
        "id": "HdVDV4L67sV_",
        "outputId": "5b4dcb6e-f82c-4027-b04e-0d1af96591a0"
      },
      "outputs": [],
      "source": [
        "!pip install python-pptx\n",
        "!pip install python-docx\n",
        "!pip install looker_sdk\n",
        "\n"
      ]
    },
    {
      "cell_type": "code",
      "execution_count": null,
      "metadata": {
        "id": "m0PeG34q7_Ny"
      },
      "outputs": [],
      "source": [
        "from pptx import Presentation\n",
        "from pptx.util import Cm\n",
        "\n",
        "from docx import Document\n",
        "from docx.shared import Inches\n",
        "\n",
        "import PIL.Image as Image\n",
        "from io import BytesIO\n",
        "import os\n",
        "import looker_sdk\n",
        "\n",
        "\n"
      ]
    },
    {
      "cell_type": "code",
      "execution_count": null,
      "metadata": {
        "colab": {
          "base_uri": "https://localhost:8080/"
        },
        "id": "SU2TIc1uZZPZ",
        "outputId": "5d4c5bfc-32cf-4166-f315-4dfd692ce52f"
      },
      "outputs": [],
      "source": [
        "os.environ[\"LOOKERSDK_BASE_URL\"] = \"\" #If your looker URL has .cloud in it (hosted on GCP), do not include :19999 (ie: https://your.cloud.looker.com).\n",
        "os.environ[\"LOOKERSDK_API_VERSION\"] = \"3.1\" #3.1 is the default version. You can change this to 4.0 if you want.\n",
        "os.environ[\"LOOKERSDK_VERIFY_SSL\"] = \"true\" #Defaults to true if not set. SSL verification should generally be on unless you have a real good reason not to use it. Valid options: true, y, t, yes, 1.\n",
        "os.environ[\"LOOKERSDK_TIMEOUT\"] = \"120\" #Seconds till request timeout. Standard default is 120.\n",
        "\n",
        "#Get the following values from your Users page in the Admin panel of your Looker instance > Users > Your user > Edit API keys. If you know your user id, you can visit https://your.looker.com/admin/users/<your_user_id>/edit.\n",
        "os.environ[\"LOOKERSDK_CLIENT_ID\"] =  \"\" #No defaults.\n",
        "os.environ[\"LOOKERSDK_CLIENT_SECRET\"] = \"\" #No defaults. This should be protected at all costs. Please do not leave it sitting here, even if you don't share this document.\n",
        "\n",
        "print(\"All environment variables set.\")"
      ]
    },
    {
      "cell_type": "code",
      "execution_count": null,
      "metadata": {
        "colab": {
          "base_uri": "https://localhost:8080/"
        },
        "id": "rAWDAyFAZeG9",
        "outputId": "665a2c2c-cc91-42ce-eeaf-1ebbbd50d042"
      },
      "outputs": [],
      "source": [
        "sdk = looker_sdk.init40()\n",
        "print('Looker SDK 4.0 initialized successfully.')"
      ]
    },
    {
      "cell_type": "code",
      "execution_count": null,
      "metadata": {
        "colab": {
          "base_uri": "https://localhost:8080/"
        },
        "id": "Gmk7U5mbZfeJ",
        "outputId": "abe07f59-3bae-4cf3-95b1-28721fd5790b"
      },
      "outputs": [],
      "source": [
        "my_user = sdk.me()\n",
        "\n",
        "#Output is an instance of the User model, but can also be read like a python dict. This applies to all Looker API calls that return Models.\n",
        "#Example: The following commands return identical output. Feel free to use whichever style is more comfortable for you.\n",
        "\n",
        "print(my_user.first_name) #Model dot notation\n",
        "\n",
        "\n",
        "folder_id=\"522\""
      ]
    },
    {
      "cell_type": "code",
      "execution_count": null,
      "metadata": {
        "colab": {
          "base_uri": "https://localhost:8080/"
        },
        "id": "QGXYPl_jZ9q7",
        "outputId": "2d6e8ecb-08ee-4f4d-c88d-7ad3d5d60336"
      },
      "outputs": [],
      "source": [
        "pptx = Presentation()\n",
        "for idx, layout in enumerate(pptx.slide_layouts):\n",
        "    print(idx, layout.name)\n",
        "title_only_layout = pptx.slide_layouts[5]\n",
        "\n",
        "for i,look in enumerate(sdk.folder_looks(folder_id)):\n",
        "  print(look.id, look.title)\n",
        "  look_request = {\n",
        "\n",
        "        \"look_id\": look.id, \n",
        "\n",
        "        \"result_format\": 'png', \n",
        "\n",
        "        \"image_width\": 960, \n",
        "\n",
        "        \"image_height\": 540\n",
        "\n",
        "    }\n",
        "  \n",
        "  try:\n",
        "    image1 = sdk.run_look(**look_request)\n",
        "    image = Image.open(BytesIO(image1))\n",
        "    image_file = ''.join([str(look.id), '.png'])\n",
        "    image.save(image_file) \n",
        "  except:\n",
        "    print(f'Look failed {look.id}: {look.title}')\n",
        "    image_file = None\n",
        "  \n",
        "  pptx.slides.add_slide(title_only_layout)\n",
        "  pptx.slides[i].shapes.title.text = f''+look.title\n",
        "  try:\n",
        "    pptx.slides[i].shapes.add_picture(image_file, Cm(2), Cm(5), width=Cm(20)) # image, left, top, width\n",
        "  except:\n",
        "    print('Failed to add image to slide')\n",
        "pptx.save('demo.pptx')"
      ]
    },
    {
      "cell_type": "code",
      "execution_count": null,
      "metadata": {
        "colab": {
          "base_uri": "https://localhost:8080/"
        },
        "id": "4vb1XcDL7_ig",
        "outputId": "278393ef-136b-4e30-ac12-2c8b81174a70"
      },
      "outputs": [],
      "source": [
        "\n",
        "document = Document()\n",
        "document.add_heading(\"Insights on inventory Items\", level=0)\n",
        "\n",
        "\n",
        "for i,look in enumerate(sdk.folder_looks(folder_id)):\n",
        "  print(look.id, look.title)\n",
        "  look_request = {\n",
        "\n",
        "        \"look_id\": look.id, \n",
        "\n",
        "        \"result_format\": 'png', \n",
        "\n",
        "        \"image_width\": 960, \n",
        "\n",
        "        \"image_height\": 540\n",
        "\n",
        "    }\n",
        "  \n",
        "  try:\n",
        "    image1 = sdk.run_look(**look_request)\n",
        "    image = Image.open(BytesIO(image1))\n",
        "    image_file = ''.join([str(look.id), '.png'])\n",
        "    image.save(image_file) \n",
        "  except:\n",
        "    print(f'Look failed {look.id}: {look.title}')\n",
        "    image_file = None\n",
        "\n",
        "  document.add_heading(look.title, level=1)\n",
        "  document.add_picture(image_file, width=Inches(6))\n",
        "  document.add_page_break()\n",
        "\n",
        "\n",
        "\n",
        "document.save('demo.docx')\n"
      ]
    },
    {
      "cell_type": "code",
      "execution_count": null,
      "metadata": {
        "colab": {
          "base_uri": "https://localhost:8080/"
        },
        "id": "Vu9XKNqpS9gH",
        "outputId": "304a1752-316f-4d0c-c8e0-86138864a801"
      },
      "outputs": [],
      "source": [
        "arr=[]\n",
        "for i,items in enumerate(sdk.all_folders()):\n",
        "  if len(items.name)==0:\n",
        "    continue\n",
        "  temp={\"folder_id\":items.id,\"folder_name\":items.name}\n",
        "  looks=[ look.title for look in sdk.folder_looks(items.id)]\n",
        "  if len(looks)==0:\n",
        "    continue\n",
        "  temp[\"looks_list\"]=looks\n",
        "  arr.append(temp)\n",
        "print(arr)\n",
        "\n",
        "  \n"
      ]
    },
    {
      "cell_type": "code",
      "execution_count": null,
      "metadata": {
        "colab": {
          "base_uri": "https://localhost:8080/"
        },
        "id": "dsQ3UnU2D-Uu",
        "outputId": "1e3191ef-fce5-4152-abd5-9a426d7537ed"
      },
      "outputs": [],
      "source": [
        "for i,items in enumerate(sdk.all_folders()):\n",
        "  if items.id ==\"522\":\n",
        "    print(items)\n",
        "    break"
      ]
    }
  ],
  "metadata": {
    "colab": {
      "collapsed_sections": [],
      "name": "Look_to_PPT.ipynb",
      "provenance": []
    },
    "kernelspec": {
      "display_name": "Python 3",
      "name": "python3"
    },
    "language_info": {
      "name": "python"
    }
  },
  "nbformat": 4,
  "nbformat_minor": 0
}
